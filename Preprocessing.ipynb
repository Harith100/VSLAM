{
 "cells": [
  {
   "cell_type": "code",
   "execution_count": 24,
   "metadata": {},
   "outputs": [],
   "source": [
    "import os\n",
    "import json\n",
    "import torch\n",
    "from torchvision import transforms\n",
    "from PIL import Image\n",
    "\n",
    "def extract_features_and_targets(video_folder, json_folder):\n",
    "    features = []\n",
    "    positions = []\n",
    "    orientations = []\n",
    "\n",
    "    for frame_file in os.listdir(video_folder):\n",
    "        if frame_file.endswith('.jpg'):  # Assuming frames are in JPEG format\n",
    "            frame_path = os.path.join(video_folder, frame_file)\n",
    "            json_file = os.path.splitext(frame_file)[0] + '.json'\n",
    "            json_path = os.path.join(json_folder, json_file)\n",
    "\n",
    "            # Load frame and convert to tensor\n",
    "            frame = Image.open(frame_path)\n",
    "            transform = transforms.Compose([transforms.Resize((224, 224)),  # Example resizing\n",
    "                                            transforms.ToTensor()])\n",
    "            feature = transform(frame)\n",
    "\n",
    "            # Parse JSON file to extract position and orientation quaternion\n",
    "            with open(json_path, 'r') as f:\n",
    "                data = json.load(f)\n",
    "                try:\n",
    "                    # Extract position and orientation quaternion information from JSON\n",
    "                    position = torch.tensor([data['Position']['x'], data['Position']['y'], data['Position']['z']])\n",
    "                    orientation_quaternion = torch.tensor([data['Orientation_Quaternion']['x'], data['Orientation_Quaternion']['y'], data['Orientation_Quaternion']['z'], data['Orientation_Quaternion']['w']])\n",
    "                except KeyError as e:\n",
    "                    print(f\"KeyError: '{e}' not found in JSON file:\", json_file)\n",
    "                    continue  # Skip this file if target information not found\n",
    "\n",
    "            features.append(feature)\n",
    "            positions.append(position)\n",
    "            orientations.append(orientation_quaternion)\n",
    "\n",
    "    # Convert lists to tensors\n",
    "    features = torch.stack(features)\n",
    "    positions = torch.stack(positions)\n",
    "    orientations = torch.stack(orientations)\n",
    "\n",
    "    return features, positions, orientations\n",
    "\n",
    "# Example usage\n",
    "video_folder = 'D:/slam/VSLAM/Data/TrainingDataSetGenerated_2'\n",
    "json_folder = 'D:/slam/VSLAM/Data/TrainingDataSetGenerated_2'\n",
    "features, positions, orientations = extract_features_and_targets(video_folder, json_folder)\n",
    "\n",
    "# Save features, positions, and orientations as PyTorch tensors\n",
    "torch.save(features, 'D:/slam/VSLAM/Extracted/Features.pt')\n",
    "torch.save(positions, 'D:/slam/VSLAM/Extracted/Positions.pt')\n",
    "torch.save(orientations, 'D:/slam/VSLAM/Extracted/Orientations.pt')\n"
   ]
  }
 ],
 "metadata": {
  "kernelspec": {
   "display_name": "env",
   "language": "python",
   "name": "python3"
  },
  "language_info": {
   "codemirror_mode": {
    "name": "ipython",
    "version": 3
   },
   "file_extension": ".py",
   "mimetype": "text/x-python",
   "name": "python",
   "nbconvert_exporter": "python",
   "pygments_lexer": "ipython3",
   "version": "3.11.9"
  }
 },
 "nbformat": 4,
 "nbformat_minor": 2
}
