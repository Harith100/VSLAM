{
 "cells": [
  {
   "cell_type": "code",
   "execution_count": 3,
   "metadata": {},
   "outputs": [],
   "source": [
    "import torch\n",
    "import torch.nn as nn\n",
    "import torchvision.models as models\n",
    "\n",
    "class HourglassPose(nn.Module):\n",
    "    def __init__(self):\n",
    "        super(HourglassPose, self).__init__()\n",
    "        \n",
    "        # Load pre-trained ResNet34 as encoder\n",
    "        resnet34 = models.resnet34(pretrained=True)\n",
    "        self.encoder = nn.Sequential(*list(resnet34.children())[:-2])  # Remove last avgpool and fc layers\n",
    "        \n",
    "        # Decoder\n",
    "        self.deconv1 = nn.ConvTranspose2d(512, 256, kernel_size=3, stride=2, padding=1, output_padding=1)\n",
    "        self.deconv2 = nn.ConvTranspose2d(256, 128, kernel_size=3, stride=2, padding=1, output_padding=1)\n",
    "        self.deconv3 = nn.ConvTranspose2d(128, 64, kernel_size=3, stride=2, padding=1, output_padding=1)\n",
    "        self.deconv4 = nn.ConvTranspose2d(64, 32, kernel_size=3, stride=2, padding=1, output_padding=1)\n",
    "        self.conv_final = nn.Conv2d(32, 32, kernel_size=3, padding=1)\n",
    "        \n",
    "        # Skip connections\n",
    "        self.skip1 = nn.Conv2d(512, 32, kernel_size=1)\n",
    "        self.skip2 = nn.Conv2d(256, 32, kernel_size=1)\n",
    "        self.skip3 = nn.Conv2d(128, 32, kernel_size=1)\n",
    "        self.skip4 = nn.Conv2d(64, 32, kernel_size=1)\n",
    "        \n",
    "        # Regressor\n",
    "        self.fc_loc = nn.Linear(32 * 56 * 56, 3)\n",
    "        self.fc_ori = nn.Linear(32 * 56 * 56, 4)\n",
    "        self.fc_trans = nn.Linear(32 * 56 * 56, 3)\n",
    "        \n",
    "    def forward(self, x):\n",
    "        # Encoder\n",
    "        x = self.encoder(x)\n",
    "        skip1 = self.skip1(x)\n",
    "        \n",
    "        # Decoder\n",
    "        x = self.deconv1(x)\n",
    "        skip2 = self.skip2(x)\n",
    "        x = torch.cat((x, skip2), dim=1)\n",
    "        \n",
    "        x = self.deconv2(x)\n",
    "        skip3 = self.skip3(x)\n",
    "        x = torch.cat((x, skip3), dim=1)\n",
    "        \n",
    "        x = self.deconv3(x)\n",
    "        skip4 = self.skip4(x)\n",
    "        x = torch.cat((x, skip4, skip1), dim=1)\n",
    "        \n",
    "        x = self.deconv4(x)\n",
    "        x = self.conv_final(x)\n",
    "        \n",
    "        # Regressor\n",
    "        x = x.view(x.size(0), -1)\n",
    "        loc = self.fc_loc(x)\n",
    "        ori = self.fc_ori(x)\n",
    "        trans = self.fc_trans(x)\n",
    "        \n",
    "        return loc, ori, trans"
   ]
  },
  {
   "cell_type": "code",
   "execution_count": 1,
   "metadata": {},
   "outputs": [
    {
     "name": "stdout",
     "output_type": "stream",
     "text": [
      "tensor([[0.1716, 0.0628, 0.9276],\n",
      "        [0.7938, 0.2581, 0.9955],\n",
      "        [0.2131, 0.1500, 0.4318],\n",
      "        [0.4466, 0.2244, 0.0838],\n",
      "        [0.5996, 0.4756, 0.7389]])\n"
     ]
    }
   ],
   "source": [
    "import torch\n",
    "x = torch.rand(5, 3)\n",
    "print(x)"
   ]
  },
  {
   "cell_type": "code",
   "execution_count": 2,
   "metadata": {},
   "outputs": [
    {
     "data": {
      "text/plain": [
       "True"
      ]
     },
     "execution_count": 2,
     "metadata": {},
     "output_type": "execute_result"
    }
   ],
   "source": [
    "import torch\n",
    "torch.cuda.is_available()"
   ]
  }
 ],
 "metadata": {
  "kernelspec": {
   "display_name": "env",
   "language": "python",
   "name": "python3"
  },
  "language_info": {
   "codemirror_mode": {
    "name": "ipython",
    "version": 3
   },
   "file_extension": ".py",
   "mimetype": "text/x-python",
   "name": "python",
   "nbconvert_exporter": "python",
   "pygments_lexer": "ipython3",
   "version": "3.11.9"
  }
 },
 "nbformat": 4,
 "nbformat_minor": 2
}
